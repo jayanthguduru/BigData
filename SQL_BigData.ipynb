{
 "cells": [
  {
   "cell_type": "code",
   "execution_count": 14,
   "id": "f840c828",
   "metadata": {},
   "outputs": [],
   "source": [
    "import pandas as pd\n",
    "loc = \"C:\\\\Users\\\\jayan\\\\OneDrive\\\\Documents\\\\books.csv\"\n",
    "df = pd.read_csv(loc)"
   ]
  },
  {
   "cell_type": "code",
   "execution_count": 15,
   "id": "3fefcf54",
   "metadata": {},
   "outputs": [
    {
     "data": {
      "text/html": [
       "<div>\n",
       "<style scoped>\n",
       "    .dataframe tbody tr th:only-of-type {\n",
       "        vertical-align: middle;\n",
       "    }\n",
       "\n",
       "    .dataframe tbody tr th {\n",
       "        vertical-align: top;\n",
       "    }\n",
       "\n",
       "    .dataframe thead th {\n",
       "        text-align: right;\n",
       "    }\n",
       "</style>\n",
       "<table border=\"1\" class=\"dataframe\">\n",
       "  <thead>\n",
       "    <tr style=\"text-align: right;\">\n",
       "      <th></th>\n",
       "      <th>bookID</th>\n",
       "      <th>title</th>\n",
       "      <th>authors</th>\n",
       "      <th>average_rating</th>\n",
       "      <th>isbn</th>\n",
       "      <th>isbn13</th>\n",
       "      <th>language_code</th>\n",
       "      <th>num_pages</th>\n",
       "      <th>ratings_count</th>\n",
       "      <th>text_reviews_count</th>\n",
       "      <th>publication_date</th>\n",
       "      <th>publisher</th>\n",
       "    </tr>\n",
       "  </thead>\n",
       "  <tbody>\n",
       "    <tr>\n",
       "      <th>0</th>\n",
       "      <td>1.0</td>\n",
       "      <td>Harry Potter and the Half-Blood Prince (Harry ...</td>\n",
       "      <td>J.K. Rowling/Mary GrandPré</td>\n",
       "      <td>4.57</td>\n",
       "      <td>439785960</td>\n",
       "      <td>9.780000e+12</td>\n",
       "      <td>eng</td>\n",
       "      <td>652.0</td>\n",
       "      <td>2095690.0</td>\n",
       "      <td>27591.0</td>\n",
       "      <td>9/16/2006</td>\n",
       "      <td>Scholastic Inc.</td>\n",
       "    </tr>\n",
       "    <tr>\n",
       "      <th>1</th>\n",
       "      <td>2.0</td>\n",
       "      <td>Harry Potter and the Order of the Phoenix (Har...</td>\n",
       "      <td>J.K. Rowling/Mary GrandPré</td>\n",
       "      <td>4.49</td>\n",
       "      <td>439358078</td>\n",
       "      <td>9.780000e+12</td>\n",
       "      <td>eng</td>\n",
       "      <td>870.0</td>\n",
       "      <td>2153167.0</td>\n",
       "      <td>29221.0</td>\n",
       "      <td>9/1/2004</td>\n",
       "      <td>Scholastic Inc.</td>\n",
       "    </tr>\n",
       "    <tr>\n",
       "      <th>2</th>\n",
       "      <td>4.0</td>\n",
       "      <td>Harry Potter and the Chamber of Secrets (Harry...</td>\n",
       "      <td>J.K. Rowling</td>\n",
       "      <td>4.42</td>\n",
       "      <td>439554896</td>\n",
       "      <td>9.780000e+12</td>\n",
       "      <td>eng</td>\n",
       "      <td>352.0</td>\n",
       "      <td>6333.0</td>\n",
       "      <td>244.0</td>\n",
       "      <td>11/1/2003</td>\n",
       "      <td>Scholastic</td>\n",
       "    </tr>\n",
       "    <tr>\n",
       "      <th>3</th>\n",
       "      <td>5.0</td>\n",
       "      <td>Harry Potter and the Prisoner of Azkaban (Harr...</td>\n",
       "      <td>J.K. Rowling/Mary GrandPré</td>\n",
       "      <td>4.56</td>\n",
       "      <td>043965548X</td>\n",
       "      <td>9.780000e+12</td>\n",
       "      <td>eng</td>\n",
       "      <td>435.0</td>\n",
       "      <td>2339585.0</td>\n",
       "      <td>36325.0</td>\n",
       "      <td>5/1/2004</td>\n",
       "      <td>Scholastic Inc.</td>\n",
       "    </tr>\n",
       "    <tr>\n",
       "      <th>4</th>\n",
       "      <td>8.0</td>\n",
       "      <td>Harry Potter Boxed Set  Books 1-5 (Harry Potte...</td>\n",
       "      <td>J.K. Rowling/Mary GrandPré</td>\n",
       "      <td>4.78</td>\n",
       "      <td>439682584</td>\n",
       "      <td>9.780000e+12</td>\n",
       "      <td>eng</td>\n",
       "      <td>2690.0</td>\n",
       "      <td>41428.0</td>\n",
       "      <td>164.0</td>\n",
       "      <td>9/13/2004</td>\n",
       "      <td>Scholastic</td>\n",
       "    </tr>\n",
       "  </tbody>\n",
       "</table>\n",
       "</div>"
      ],
      "text/plain": [
       "   bookID                                              title  \\\n",
       "0     1.0  Harry Potter and the Half-Blood Prince (Harry ...   \n",
       "1     2.0  Harry Potter and the Order of the Phoenix (Har...   \n",
       "2     4.0  Harry Potter and the Chamber of Secrets (Harry...   \n",
       "3     5.0  Harry Potter and the Prisoner of Azkaban (Harr...   \n",
       "4     8.0  Harry Potter Boxed Set  Books 1-5 (Harry Potte...   \n",
       "\n",
       "                      authors  average_rating        isbn        isbn13  \\\n",
       "0  J.K. Rowling/Mary GrandPré            4.57   439785960  9.780000e+12   \n",
       "1  J.K. Rowling/Mary GrandPré            4.49   439358078  9.780000e+12   \n",
       "2                J.K. Rowling            4.42   439554896  9.780000e+12   \n",
       "3  J.K. Rowling/Mary GrandPré            4.56  043965548X  9.780000e+12   \n",
       "4  J.K. Rowling/Mary GrandPré            4.78   439682584  9.780000e+12   \n",
       "\n",
       "  language_code    num_pages  ratings_count  text_reviews_count  \\\n",
       "0           eng        652.0      2095690.0             27591.0   \n",
       "1           eng        870.0      2153167.0             29221.0   \n",
       "2           eng        352.0         6333.0               244.0   \n",
       "3           eng        435.0      2339585.0             36325.0   \n",
       "4           eng       2690.0        41428.0               164.0   \n",
       "\n",
       "  publication_date        publisher  \n",
       "0        9/16/2006  Scholastic Inc.  \n",
       "1         9/1/2004  Scholastic Inc.  \n",
       "2        11/1/2003       Scholastic  \n",
       "3         5/1/2004  Scholastic Inc.  \n",
       "4        9/13/2004       Scholastic  "
      ]
     },
     "execution_count": 15,
     "metadata": {},
     "output_type": "execute_result"
    }
   ],
   "source": [
    "df.head()"
   ]
  },
  {
   "cell_type": "code",
   "execution_count": 16,
   "id": "7fd37f32",
   "metadata": {},
   "outputs": [
    {
     "data": {
      "text/plain": [
       "(11127, 12)"
      ]
     },
     "execution_count": 16,
     "metadata": {},
     "output_type": "execute_result"
    }
   ],
   "source": [
    "df.shape"
   ]
  },
  {
   "cell_type": "code",
   "execution_count": 17,
   "id": "43bc7c0a",
   "metadata": {},
   "outputs": [
    {
     "data": {
      "text/plain": [
       "bookID                float64\n",
       "title                  object\n",
       "authors                object\n",
       "average_rating        float64\n",
       "isbn                   object\n",
       "isbn13                float64\n",
       "language_code          object\n",
       "  num_pages           float64\n",
       "ratings_count         float64\n",
       "text_reviews_count    float64\n",
       "publication_date       object\n",
       "publisher              object\n",
       "dtype: object"
      ]
     },
     "execution_count": 17,
     "metadata": {},
     "output_type": "execute_result"
    }
   ],
   "source": [
    "df.columns\n",
    "df.dtypes"
   ]
  },
  {
   "cell_type": "code",
   "execution_count": 18,
   "id": "d68c196f",
   "metadata": {},
   "outputs": [
    {
     "data": {
      "text/plain": [
       "bookID                4\n",
       "title                 4\n",
       "authors               4\n",
       "average_rating        4\n",
       "isbn                  4\n",
       "isbn13                4\n",
       "language_code         4\n",
       "  num_pages           4\n",
       "ratings_count         4\n",
       "text_reviews_count    4\n",
       "publication_date      4\n",
       "publisher             4\n",
       "dtype: int64"
      ]
     },
     "execution_count": 18,
     "metadata": {},
     "output_type": "execute_result"
    }
   ],
   "source": [
    "df.isnull().sum()"
   ]
  },
  {
   "cell_type": "code",
   "execution_count": 21,
   "id": "72772595",
   "metadata": {},
   "outputs": [],
   "source": [
    "df = df.dropna().reset_index(drop=True)"
   ]
  },
  {
   "cell_type": "code",
   "execution_count": 22,
   "id": "7dae7e57",
   "metadata": {},
   "outputs": [
    {
     "data": {
      "text/plain": [
       "bookID                0\n",
       "title                 0\n",
       "authors               0\n",
       "average_rating        0\n",
       "isbn                  0\n",
       "isbn13                0\n",
       "language_code         0\n",
       "  num_pages           0\n",
       "ratings_count         0\n",
       "text_reviews_count    0\n",
       "publication_date      0\n",
       "publisher             0\n",
       "dtype: int64"
      ]
     },
     "execution_count": 22,
     "metadata": {},
     "output_type": "execute_result"
    }
   ],
   "source": [
    "df.isnull().sum()"
   ]
  },
  {
   "cell_type": "code",
   "execution_count": 23,
   "id": "e58cae3f",
   "metadata": {},
   "outputs": [
    {
     "data": {
      "text/plain": [
       "(11123, 12)"
      ]
     },
     "execution_count": 23,
     "metadata": {},
     "output_type": "execute_result"
    }
   ],
   "source": [
    "df.shape"
   ]
  },
  {
   "cell_type": "code",
   "execution_count": 24,
   "id": "0b638124",
   "metadata": {},
   "outputs": [],
   "source": [
    "df['publication_date'] = pd.to_datetime(df['publication_date'])"
   ]
  },
  {
   "cell_type": "code",
   "execution_count": 30,
   "id": "cbb819ad",
   "metadata": {
    "scrolled": true
   },
   "outputs": [
    {
     "data": {
      "text/plain": [
       "bookID                       float64\n",
       "title                         object\n",
       "authors                       object\n",
       "average_rating               float64\n",
       "isbn                          object\n",
       "isbn13                       float64\n",
       "language_code                 object\n",
       "  num_pages                  float64\n",
       "ratings_count                float64\n",
       "text_reviews_count           float64\n",
       "publication_date      datetime64[ns]\n",
       "publisher                     object\n",
       "dtype: object"
      ]
     },
     "execution_count": 30,
     "metadata": {},
     "output_type": "execute_result"
    }
   ],
   "source": [
    "df.dtypes"
   ]
  },
  {
   "cell_type": "code",
   "execution_count": 32,
   "id": "e386b30a",
   "metadata": {},
   "outputs": [],
   "source": [
    "df.columns = df.columns.str.replace(' ', '')"
   ]
  },
  {
   "cell_type": "code",
   "execution_count": 33,
   "id": "6e616af6",
   "metadata": {},
   "outputs": [],
   "source": [
    "df1 = df[['bookID','title','authors','average_rating']].copy()\n",
    "df2 = df[['bookID','isbn','isbn13','language_code','num_pages']].copy()\n",
    "df3 = df[['bookID','ratings_count','text_reviews_count','publication_date','publisher']].copy()"
   ]
  },
  {
   "cell_type": "code",
   "execution_count": 39,
   "id": "a2e33f4d",
   "metadata": {},
   "outputs": [
    {
     "name": "stdout",
     "output_type": "stream",
     "text": [
      "df shape (11123, 12)\n",
      "df1 shape (11123, 4)\n",
      "df2 shape (11123, 5)\n",
      "df3 shape (11123, 5)\n"
     ]
    }
   ],
   "source": [
    "print('df shape',df.shape)\n",
    "print('df1 shape',df1.shape)\n",
    "print('df2 shape',df2.shape)\n",
    "print('df3 shape',df3.shape)"
   ]
  },
  {
   "cell_type": "code",
   "execution_count": 57,
   "id": "d41b5c12",
   "metadata": {},
   "outputs": [],
   "source": [
    "import psycopg2\n",
    "import json"
   ]
  },
  {
   "cell_type": "code",
   "execution_count": 58,
   "id": "e424d8de",
   "metadata": {},
   "outputs": [],
   "source": [
    "with open(r'C:\\Users\\jayan\\OneDrive\\Documents\\db_cred.json','r') as j:\n",
    "    cred = json.load(j)"
   ]
  },
  {
   "cell_type": "code",
   "execution_count": 75,
   "id": "5035781d",
   "metadata": {},
   "outputs": [],
   "source": [
    "from sqlalchemy import create_engine\n",
    "db_string = 'postgresql://{}:{}@{}:{}/{}'.format(cred[\"user\"],cred[\"password\"], cred[\"host\"], cred['port'], cred[\"database\"])\n",
    "db = create_engine(db_string)"
   ]
  },
  {
   "cell_type": "code",
   "execution_count": 79,
   "id": "555835ad",
   "metadata": {},
   "outputs": [],
   "source": [
    "df1.to_sql('df1',db, if_exists= 'replace',index=True)"
   ]
  },
  {
   "cell_type": "code",
   "execution_count": 80,
   "id": "23a741a5",
   "metadata": {},
   "outputs": [],
   "source": [
    "df2.to_sql('df2',db, if_exists= 'replace',index=True)"
   ]
  },
  {
   "cell_type": "code",
   "execution_count": 81,
   "id": "c2528053",
   "metadata": {},
   "outputs": [],
   "source": [
    "df3.to_sql('df3',db, if_exists= 'replace',index=True)"
   ]
  },
  {
   "cell_type": "code",
   "execution_count": 142,
   "id": "827097c3",
   "metadata": {},
   "outputs": [
    {
     "name": "stdout",
     "output_type": "stream",
     "text": [
      "Top 1 oldest book is Consider the Lilies\n",
      "Top 2 oldest book is On Duties (De Officiis)\n",
      "Top 3 oldest book is Agricola / Germania / Dialogue on Oratory\n",
      "Top 4 oldest book is History of the Peloponnesian War: Bk. 1-2\n",
      "Top 5 oldest book is History of the Peloponnesian War: Bk. 5-6\n"
     ]
    }
   ],
   "source": [
    "with db.connect() as conn:\n",
    "    statement = '''SELECT df1.\"bookID\", df1.\"title\"\n",
    "FROM df1 INNER JOIN df3 ON df1.\"bookID\" = df3.\"bookID\" ORDER BY \"publication_date\" ASC limit 5 offset 0'''\n",
    "    result = conn.execute(statement)\n",
    "    for i,row in enumerate(result):\n",
    "        print(\"Top {0} oldest book is {1}\".format(i+1,row[\"title\"]))"
   ]
  },
  {
   "cell_type": "code",
   "execution_count": 138,
   "id": "ad0c53d0",
   "metadata": {},
   "outputs": [
    {
     "name": "stdout",
     "output_type": "stream",
     "text": [
      "Average Rating for Language code wel is 5.0\n",
      "Average Rating for Language code gla is 4.47\n",
      "Average Rating for Language code zho is 4.456428571428571\n",
      "Average Rating for Language code tur is 4.42\n",
      "Average Rating for Language code ale is 4.36\n"
     ]
    }
   ],
   "source": [
    "with db.connect() as conn:\n",
    "    statement = '''SELECT df2.\"language_code\", AVG(df1.\"average_rating\")\n",
    "FROM df1 INNER JOIN df2 ON df1.\"bookID\" = df2.\"bookID\" GROUP BY df2.\"language_code\" ORDER BY AVG(df1.\"average_rating\") DESC LIMIT 5 OFFSET 0'''\n",
    "    result = conn.execute(statement)\n",
    "    for row in result:\n",
    "        print(\"Average Rating for Language code {0} is {1}\".format(row[0],row[1]))"
   ]
  },
  {
   "cell_type": "code",
   "execution_count": 144,
   "id": "6c14bc48",
   "metadata": {},
   "outputs": [
    {
     "name": "stdout",
     "output_type": "stream",
     "text": [
      "Top 1 rated author is J.K. Rowling/Mary GrandPré with ratings 8923980.0\n",
      "Top 2 rated author is J.R.R. Tolkien with ratings 4776638.0\n",
      "Top 3 rated author is Stephenie Meyer with ratings 4597666.0\n",
      "Top 4 rated author is Dan Brown with ratings 4135380.0\n",
      "Top 5 rated author is Nicholas Sparks with ratings 3048149.0\n"
     ]
    }
   ],
   "source": [
    "with db.connect() as conn:\n",
    "    statement = '''SELECT df1.\"authors\", SUM(df3.\"ratings_count\")\n",
    "FROM df1 INNER JOIN df3 ON df1.\"bookID\" = df3.\"bookID\" GROUP BY df1.\"authors\" ORDER BY SUM(df3.\"ratings_count\") DESC LIMIT 5 OFFSET 0'''\n",
    "    result = conn.execute(statement)\n",
    "    for i,row in enumerate(result):\n",
    "        print(\"Top {0} rated author is {1} with ratings {2}\".format(i+1,row[0],row[1]))"
   ]
  },
  {
   "cell_type": "code",
   "execution_count": 147,
   "id": "3c1abde8",
   "metadata": {},
   "outputs": [
    {
     "name": "stdout",
     "output_type": "stream",
     "text": [
      "Top 1 diverse publisher is Oxford University Press  USA with books published in 6 languages\n",
      "Top 2 diverse publisher is Dover Publications with books published in 5 languages\n",
      "Top 3 diverse publisher is Mariner Books with books published in 5 languages\n",
      "Top 4 diverse publisher is HarperOne with books published in 4 languages\n",
      "Top 5 diverse publisher is Cambridge University Press with books published in 4 languages\n"
     ]
    }
   ],
   "source": [
    "with db.connect() as conn:\n",
    "    statement = '''SELECT count(DISTINCT df2.\"language_code\"), df3.\"publisher\"\n",
    "FROM df2 INNER JOIN df3 ON df2.\"bookID\" = df3.\"bookID\" GROUP BY df3.\"publisher\" ORDER BY count(DISTINCT df2.\"language_code\") DESC LIMIT 5 OFFSET 0'''\n",
    "    result = conn.execute(statement)\n",
    "    for i,row in enumerate(result):\n",
    "        print(\"Top {0} diverse publisher is {1} with books published in {2} languages\".format(i+1,row[1],row[0]))"
   ]
  }
 ],
 "metadata": {
  "kernelspec": {
   "display_name": "Python 3 (ipykernel)",
   "language": "python",
   "name": "python3"
  },
  "language_info": {
   "codemirror_mode": {
    "name": "ipython",
    "version": 3
   },
   "file_extension": ".py",
   "mimetype": "text/x-python",
   "name": "python",
   "nbconvert_exporter": "python",
   "pygments_lexer": "ipython3",
   "version": "3.9.7"
  }
 },
 "nbformat": 4,
 "nbformat_minor": 5
}
